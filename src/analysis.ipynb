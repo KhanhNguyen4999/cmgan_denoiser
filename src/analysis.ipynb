{
 "cells": [
  {
   "cell_type": "code",
   "execution_count": 1,
   "metadata": {},
   "outputs": [],
   "source": [
    "import torch\n",
    "import matplotlib.pyplot as plt\n",
    "import json"
   ]
  },
  {
   "cell_type": "code",
   "execution_count": 9,
   "metadata": {},
   "outputs": [
    {
     "data": {
      "image/png": "[encoded data removed]",
      "text/plain": [
       "<Figure size 1000x500 with 2 Axes>"
      ]
     },
     "metadata": {},
     "output_type": "display_data"
    }
   ],
   "source": [
    "# Step 3: Load attention weights from the JSON file\n",
    "with open('/root/khanhnnm/se/checkpoint/CMGAN_unet_32_kd_AFD_traditional_force_local_attention_ws=1/checkpoints/attn_weight/attn_weight_1.json', 'r') as f:\n",
    "    loaded_attention_weights = torch.tensor(json.load(f))\n",
    "\n",
    "# Step 4: Visualize attention weights\n",
    "plt.figure(figsize=(10, 5))\n",
    "plt.imshow(loaded_attention_weights[8].numpy(), cmap='hot', interpolation='nearest')\n",
    "plt.xlabel('Student features')\n",
    "plt.ylabel('Teacher features')\n",
    "plt.title('Attention weights')\n",
    "plt.colorbar()\n",
    "plt.show()"
   ]
  },
  {
   "cell_type": "code",
   "execution_count": 3,
   "metadata": {},
   "outputs": [
    {
     "name": "stdout",
     "output_type": "stream",
     "text": [
      "Epoch [10/100], Loss: 1.0256\n",
      "Epoch [20/100], Loss: 1.0110\n",
      "Epoch [30/100], Loss: 1.0029\n",
      "Epoch [40/100], Loss: 0.9976\n",
      "Epoch [50/100], Loss: 0.9936\n",
      "Epoch [60/100], Loss: 0.9903\n",
      "Epoch [70/100], Loss: 0.9875\n",
      "Epoch [80/100], Loss: 0.9851\n",
      "Epoch [90/100], Loss: 0.9829\n",
      "Epoch [100/100], Loss: 0.9810\n"
     ]
    }
   ],
   "source": [
    "import torch\n",
    "import torch.nn as nn\n",
    "import torch.optim as optim\n",
    "import numpy as np\n",
    "import random\n",
    "import os\n",
    "\n",
    "def set_seed(seed):\n",
    "    torch.manual_seed(seed)\n",
    "    torch.cuda.manual_seed(seed)\n",
    "    torch.cuda.manual_seed_all(seed)\n",
    "    torch.backends.cudnn.deterministic = True\n",
    "    torch.backends.cudnn.benchmark = False\n",
    "    torch.utils.deterministic.fill_uninitialized_memory = True\n",
    "    np.random.seed(seed)\n",
    "    random.seed(seed)\n",
    "    os.environ['PYTHONHASHSEED'] = str(seed)\n",
    "\n",
    "set_seed(42)\n",
    "# Define a simple neural network\n",
    "class SimpleNN(nn.Module):\n",
    "    def __init__(self, input_size, hidden_size, output_size):\n",
    "        super(SimpleNN, self).__init__()\n",
    "        self.fc1 = nn.Linear(input_size, hidden_size)\n",
    "        self.relu = nn.ReLU()\n",
    "        self.fc2 = nn.Linear(hidden_size, output_size)\n",
    "\n",
    "    def forward(self, x):\n",
    "        x = self.fc1(x)\n",
    "        x = self.relu(x)\n",
    "        x = self.fc2(x)\n",
    "        return x\n",
    "\n",
    "# Generate random data\n",
    "num_samples = 1000\n",
    "input_size = 10\n",
    "output_size = 1\n",
    "\n",
    "X = torch.randn(num_samples, input_size)  # Random input features\n",
    "y = torch.randn(num_samples, output_size)  # Random target labels\n",
    "\n",
    "# Initialize model and optimizer\n",
    "model = SimpleNN(input_size, hidden_size=20, output_size=output_size)\n",
    "optimizer = optim.SGD(model.parameters(), lr=0.01)\n",
    "\n",
    "# Training loop\n",
    "num_epochs = 100\n",
    "\n",
    "for epoch in range(num_epochs):\n",
    "    model.train()  # Set model to training mode\n",
    "    optimizer.zero_grad()  # Reset gradients\n",
    "\n",
    "    # Forward pass\n",
    "    outputs = model(X)\n",
    "    \n",
    "    # Compute loss (e.g., mean squared error)\n",
    "    loss = nn.MSELoss()(outputs, y)\n",
    "\n",
    "    # Backward pass and optimization\n",
    "    loss.backward()  # Compute gradients\n",
    "    optimizer.step()  # Update model parameters\n",
    "\n",
    "    # Print progress\n",
    "    if (epoch+1) % 10 == 0:\n",
    "        print(f'Epoch [{epoch+1}/{num_epochs}], Loss: {loss.item():.4f}')"
   ]
  },
  {
   "cell_type": "code",
   "execution_count": 1,
   "metadata": {},
   "outputs": [
    {
     "name": "stderr",
     "output_type": "stream",
     "text": [
      "/root/quannt40/anaconda3/envs/cmgan/lib/python3.10/site-packages/s3prl/upstream/byol_s/byol_a/common.py:20: UserWarning: torchaudio._backend.set_audio_backend has been deprecated. With dispatcher enabled, this function is no-op. You can remove the function call.\n",
      "  torchaudio.set_audio_backend(\"sox_io\")\n",
      "ESPnet is not installed, cannot use espnet_hubert upstream\n",
      "/root/quannt40/anaconda3/envs/cmgan/lib/python3.10/site-packages/tqdm/auto.py:21: TqdmWarning: IProgress not found. Please update jupyter and ipywidgets. See https://ipywidgets.readthedocs.io/en/stable/user_install.html\n",
      "  from .autonotebook import tqdm as notebook_tqdm\n",
      "/root/quannt40/anaconda3/envs/cmgan/lib/python3.10/site-packages/torch/nn/utils/weight_norm.py:28: UserWarning: torch.nn.utils.weight_norm is deprecated in favor of torch.nn.utils.parametrizations.weight_norm.\n",
      "  warnings.warn(\"torch.nn.utils.weight_norm is deprecated in favor of torch.nn.utils.parametrizations.weight_norm.\")\n"
     ]
    },
    {
     "name": "stdout",
     "output_type": "stream",
     "text": [
      "100\n",
      "100\n",
      "100\n",
      "100\n",
      "100\n",
      "100\n",
      "100\n",
      "100\n",
      "100\n",
      "100\n",
      "100\n",
      "100\n",
      "100\n"
     ]
    }
   ],
   "source": [
    "import torch\n",
    "from s3prl.nn import S3PRLUpstream\n",
    "\n",
    "model = S3PRLUpstream(\"wav2vec2\")\n",
    "model.eval()\n",
    "\n",
    "with torch.no_grad():\n",
    "    wavs = torch.randn(2, 16000 * 2)\n",
    "    wavs_len = torch.LongTensor([16000 * 1, 16000 * 2])\n",
    "    all_hs, all_hs_len = model(wavs, wavs_len)\n",
    "\n",
    "for hs, hs_len in zip(all_hs, all_hs_len):\n",
    "    assert isinstance(hs, torch.FloatTensor)\n",
    "    assert isinstance(hs_len, torch.LongTensor)\n",
    "\n",
    "    batch_size, max_seq_len, hidden_size = hs.shape\n",
    "    print(max_seq_len)\n",
    "    assert hs_len.dim() == 1"
   ]
  },
  {
   "cell_type": "code",
   "execution_count": 7,
   "metadata": {},
   "outputs": [
    {
     "data": {
      "text/plain": [
       "torch.Size([2, 100, 768])"
      ]
     },
     "execution_count": 7,
     "metadata": {},
     "output_type": "execute_result"
    }
   ],
   "source": [
    "all_hs[5].shape"
   ]
  },
  {
   "cell_type": "code",
   "execution_count": 8,
   "metadata": {},
   "outputs": [
    {
     "name": "stdout",
     "output_type": "stream",
     "text": [
      "torch.Size([2, 100, 768])\n"
     ]
    },
    {
     "data": {
      "text/plain": [
       "torch.Size([2, 1, 768])"
      ]
     },
     "execution_count": 8,
     "metadata": {},
     "output_type": "execute_result"
    }
   ],
   "source": [
    "a = all_hs[0]\n",
    "print(a.shape)\n",
    "# a = a.permute(1, 0, 2)\n",
    "conv = torch.nn.Conv1d(100, 1, 3, padding=1)\n",
    "\n",
    "out = conv(a)\n",
    "\n",
    "# out = out.permute(0, 2, 1, 3)\n",
    "out.shape"
   ]
  },
  {
   "cell_type": "code",
   "execution_count": 4,
   "metadata": {},
   "outputs": [],
   "source": [
    "model.train()\n",
    "for name, param in model.named_parameters():\n",
    "    if param.requires_grad and param.grad is not None:\n",
    "        print(f\"Parameter '{name}': Gradient norm = {param.grad.norm().item()}\")"
   ]
  },
  {
   "cell_type": "code",
   "execution_count": 1,
   "metadata": {},
   "outputs": [
    {
     "name": "stderr",
     "output_type": "stream",
     "text": [
      "/root/quannt40/anaconda3/envs/cmgan/lib/python3.10/site-packages/tqdm/auto.py:21: TqdmWarning: IProgress not found. Please update jupyter and ipywidgets. See https://ipywidgets.readthedocs.io/en/stable/user_install.html\n",
      "  from .autonotebook import tqdm as notebook_tqdm\n",
      "Special tokens have been added in the vocabulary, make sure the associated word embeddings are fine-tuned or trained.\n",
      "Some weights of WavLMModel were not initialized from the model checkpoint at patrickvonplaten/wavlm-libri-clean-100h-base-plus and are newly initialized: ['wavlm.encoder.pos_conv_embed.conv.parametrizations.weight.original0', 'wavlm.encoder.pos_conv_embed.conv.parametrizations.weight.original1']\n",
      "You should probably TRAIN this model on a down-stream task to be able to use it for predictions and inference.\n"
     ]
    }
   ],
   "source": [
    "from transformers import AutoProcessor, WavLMModel\n",
    "import torch\n",
    "\n",
    "\n",
    "processor = AutoProcessor.from_pretrained(\"patrickvonplaten/wavlm-libri-clean-100h-base-plus\")\n",
    "model = WavLMModel.from_pretrained(\"patrickvonplaten/wavlm-libri-clean-100h-base-plus\").to(\"cuda\")"
   ]
  },
  {
   "cell_type": "code",
   "execution_count": 35,
   "metadata": {},
   "outputs": [
    {
     "data": {
      "text/plain": [
       "[2, 49, 768]"
      ]
     },
     "execution_count": 35,
     "metadata": {},
     "output_type": "execute_result"
    }
   ],
   "source": [
    "# audio file is decoded on the fly\n",
    "# Example input waveform (replace with your own waveform)\n",
    "sampling_rate = 16000\n",
    "noisy_wav = torch.randn(1, 16000)\n",
    "clean_wav = torch.randn(1, 16000)\n",
    "\n",
    "inputs = [v.unsqueeze(0).to(\"cuda\") for v in [noisy_wav, clean_wav]]\n",
    "inputs = {\"input_values\": torch.concat([noisy_wav, clean_wav]).cuda(), \n",
    "          \"attention_mask\": torch.ones(2, sampling_rate).to(torch.int32).cuda()}\n",
    "\n",
    "outputs = model(**inputs)\n",
    "\n",
    "last_hidden_states = outputs.last_hidden_state\n",
    "list(last_hidden_states.shape)"
   ]
  },
  {
   "cell_type": "code",
   "execution_count": 36,
   "metadata": {},
   "outputs": [
    {
     "data": {
      "text/plain": [
       "{'input_values': tensor([[ 1.1208,  0.5761,  0.7344,  ..., -0.7266,  0.9508,  0.1458],\n",
       "         [ 1.1123, -0.4942,  0.3371,  ...,  0.0949,  0.8816, -0.0302]],\n",
       "        device='cuda:0'),\n",
       " 'attention_mask': tensor([[1, 1, 1,  ..., 1, 1, 1],\n",
       "         [1, 1, 1,  ..., 1, 1, 1]], device='cuda:0', dtype=torch.int32)}"
      ]
     },
     "execution_count": 36,
     "metadata": {},
     "output_type": "execute_result"
    },
    {
     "ename": "",
     "evalue": "",
     "output_type": "error",
     "traceback": [
      "\u001b[1;31mThe Kernel crashed while executing code in the current cell or a previous cell. \n",
      "\u001b[1;31mPlease review the code in the cell(s) to identify a possible cause of the failure. \n",
      "\u001b[1;31mClick <a href='https://aka.ms/vscodeJupyterKernelCrash'>here</a> for more info. \n",
      "\u001b[1;31mView Jupyter <a href='command:jupyter.viewOutput'>log</a> for further details."
     ]
    }
   ],
   "source": [
    "inputs"
   ]
  },
  {
   "cell_type": "code",
   "execution_count": 34,
   "metadata": {},
   "outputs": [
    {
     "data": {
      "text/plain": [
       "torch.Tensor"
      ]
     },
     "execution_count": 34,
     "metadata": {},
     "output_type": "execute_result"
    }
   ],
   "source": [
    "type(torch.ones(2, sampling_rate)[0][0])"
   ]
  },
  {
   "cell_type": "code",
   "execution_count": 20,
   "metadata": {},
   "outputs": [],
   "source": [
    "input_waveform = torch.randn(8, 16000)  # 1-second audio sampled at 16 kHz\n",
    "inputs = processor(input_waveform.tolist(), sampling_rate=sampling_rate, return_tensors=\"pt\")\n",
    "inputs = inputs.to(\"cuda\")"
   ]
  },
  {
   "cell_type": "code",
   "execution_count": 21,
   "metadata": {},
   "outputs": [
    {
     "data": {
      "text/plain": [
       "{'input_values': tensor([[-0.3379,  0.9558, -1.5255,  ...,  0.5001, -1.3800, -0.4833],\n",
       "        [ 0.5274,  0.0069,  0.1042,  ..., -0.9606,  1.0555,  1.1243],\n",
       "        [-1.8301, -0.2354,  0.4633,  ...,  0.3536,  0.0994, -1.6473],\n",
       "        ...,\n",
       "        [-0.5903,  0.0516,  1.0337,  ...,  0.3059, -0.3091, -0.6456],\n",
       "        [-0.2954, -0.4011,  0.0909,  ..., -0.5112,  0.6355,  0.1455],\n",
       "        [ 0.1648,  0.0377, -0.1168,  ..., -1.2678,  0.5302, -1.4015]],\n",
       "       device='cuda:0'), 'attention_mask': tensor([[1, 1, 1,  ..., 1, 1, 1],\n",
       "        [1, 1, 1,  ..., 1, 1, 1],\n",
       "        [1, 1, 1,  ..., 1, 1, 1],\n",
       "        ...,\n",
       "        [1, 1, 1,  ..., 1, 1, 1],\n",
       "        [1, 1, 1,  ..., 1, 1, 1],\n",
       "        [1, 1, 1,  ..., 1, 1, 1]], device='cuda:0', dtype=torch.int32)}"
      ]
     },
     "execution_count": 21,
     "metadata": {},
     "output_type": "execute_result"
    }
   ],
   "source": [
    "inputs"
   ]
  },
  {
   "cell_type": "code",
   "execution_count": 14,
   "metadata": {},
   "outputs": [
    {
     "data": {
      "text/plain": [
       "16000"
      ]
     },
     "execution_count": 14,
     "metadata": {},
     "output_type": "execute_result"
    }
   ],
   "source": [
    "len(input_waveform.tolist()[1])"
   ]
  },
  {
   "cell_type": "code",
   "execution_count": 16,
   "metadata": {},
   "outputs": [
    {
     "data": {
      "text/plain": [
       "torch.Size([8, 16000])"
      ]
     },
     "execution_count": 16,
     "metadata": {},
     "output_type": "execute_result"
    }
   ],
   "source": [
    "inputs['input_values'].shape"
   ]
  },
  {
   "cell_type": "code",
   "execution_count": 1,
   "metadata": {},
   "outputs": [
    {
     "name": "stdout",
     "output_type": "stream",
     "text": [
      "Pearson correlation loss: 2.0\n",
      "Gradient w.r.t x: tensor([-1.4901e-08, -7.4506e-09,  0.0000e+00,  7.4506e-09,  1.4901e-08])\n"
     ]
    }
   ],
   "source": [
    "import torch\n",
    "\n",
    "def pearson_correlation(x, y):\n",
    "    \"\"\"\n",
    "    Calculate the Pearson correlation coefficient between two tensors.\n",
    "    \"\"\"\n",
    "    mean_x = torch.mean(x)\n",
    "    mean_y = torch.mean(y)\n",
    "    xm = x.sub(mean_x)\n",
    "    ym = y.sub(mean_y)\n",
    "    r_num = torch.sum(xm * ym)\n",
    "    r_den = torch.sqrt(torch.sum(xm.pow(2)) * torch.sum(ym.pow(2)))\n",
    "    r = r_num / r_den\n",
    "\n",
    "    # To prevent division by zero\n",
    "    r = torch.clamp(r, -1.0, 1.0)\n",
    "    return r\n",
    "\n",
    "def pearson_loss(x, y):\n",
    "    \"\"\"\n",
    "    Loss based on Pearson correlation.\n",
    "    1 minus Pearson correlation to make it a minimization problem.\n",
    "    The closer the correlation is to 1, the lower the loss.\n",
    "    \"\"\"\n",
    "    r = pearson_correlation(x, y)\n",
    "    return 1 - r\n",
    "\n",
    "# Example usage\n",
    "x = torch.tensor([1.0, 2.0, 3.0, 4.0, 5.0], requires_grad=True)\n",
    "y = torch.tensor([5.0, 4.0, 3.0, 2.0, 1.0], requires_grad=True)\n",
    "\n",
    "# Calculate Pearson loss\n",
    "loss = pearson_loss(x, y)\n",
    "print(\"Pearson correlation loss:\", loss.item())\n",
    "\n",
    "# Backpropagate the loss if needed\n",
    "loss.backward()\n",
    "print(\"Gradient w.r.t x:\", x.grad)"
   ]
  },
  {
   "cell_type": "code",
   "execution_count": 100,
   "metadata": {},
   "outputs": [],
   "source": [
    "import torch\n",
    "\n",
    "def kl_divergence_batch(P, Q):\n",
    "    \"\"\"\n",
    "    Calculate the Kullback-Leibler Divergence for batches of distributions using PyTorch.\n",
    "    P and Q should be 2D tensors where each row represents a probability distribution.\n",
    "    \"\"\"\n",
    "    # Ensure no zero probability elements are used in log calculations\n",
    "    epsilon = 1e-10  # Small constant to avoid log(0)\n",
    "    P = torch.clamp(P, epsilon, 1)\n",
    "    Q = torch.clamp(Q, epsilon, 1)\n",
    "\n",
    "    # Element-wise KL Divergence calculation\n",
    "    kl_div = torch.sum(P * torch.log(P / Q))  # Sum over features for each distribution pair\n",
    "    return kl_div"
   ]
  },
  {
   "cell_type": "code",
   "execution_count": 95,
   "metadata": {},
   "outputs": [
    {
     "name": "stdout",
     "output_type": "stream",
     "text": [
      "torch.Size([32000])\n",
      "torch.Size([32000])\n",
      "torch.Size([32000])\n",
      "torch.Size([32000])\n"
     ]
    }
   ],
   "source": [
    "import torchaudio\n",
    "\n",
    "audio = 'p232_005'\n",
    "\n",
    "clean_ds, _ = torchaudio.load(f'/root/se/VCTK/test/clean/{audio}.wav')\n",
    "clean_ds = clean_ds.squeeze()\n",
    "clean_ds = clean_ds[:32000]\n",
    "print(clean_ds.shape)\n",
    "\n",
    "noisy_ds, _ = torchaudio.load(f'/root/se/VCTK/test/noisy/{audio}.wav')\n",
    "noisy_ds = noisy_ds.squeeze()\n",
    "noisy_ds = noisy_ds[:32000]\n",
    "print(noisy_ds.shape)\n",
    "\n",
    "teacher_enhance_ds, _ = torchaudio.load(f'/root/se/VCTK/test/enhance/{audio}.wav')\n",
    "teacher_enhance_ds = teacher_enhance_ds.squeeze()\n",
    "teacher_enhance_ds = teacher_enhance_ds[:32000]\n",
    "print(teacher_enhance_ds.shape)\n",
    "\n",
    "\n",
    "student_enhance_ds, _ = torchaudio.load(f'/root/se/checkpoint/CMGAN_unet_32_kd_logit/checkpoints/enhanced_sample/{audio}.wav')\n",
    "student_enhance_ds = student_enhance_ds.squeeze()\n",
    "student_enhance_ds = student_enhance_ds[:32000]\n",
    "print(student_enhance_ds.shape)"
   ]
  },
  {
   "cell_type": "code",
   "execution_count": 32,
   "metadata": {},
   "outputs": [
    {
     "name": "stdout",
     "output_type": "stream",
     "text": [
      "Pearson correlation loss: 0.009018898010253906\n"
     ]
    }
   ],
   "source": [
    "loss = pearson_loss(clean_ds, teacher_enhance_ds)\n",
    "print(\"Pearson correlation loss:\", loss.item())"
   ]
  },
  {
   "cell_type": "code",
   "execution_count": 101,
   "metadata": {},
   "outputs": [
    {
     "data": {
      "text/plain": [
       "tensor(36.4435)"
      ]
     },
     "execution_count": 101,
     "metadata": {},
     "output_type": "execute_result"
    }
   ],
   "source": [
    "kl_divergence_batch(teacher_enhance_ds, student_enhance_ds)"
   ]
  },
  {
   "cell_type": "code",
   "execution_count": 59,
   "metadata": {},
   "outputs": [
    {
     "data": {
      "text/plain": [
       "tensor([0.0043])"
      ]
     },
     "execution_count": 59,
     "metadata": {},
     "output_type": "execute_result"
    }
   ],
   "source": [
    "kl_divergence_batch(teacher_enhance_ds.unsqueeze(0), clean_ds.unsqueeze(0))"
   ]
  },
  {
   "cell_type": "code",
   "execution_count": 61,
   "metadata": {},
   "outputs": [
    {
     "data": {
      "text/plain": [
       "tensor([0.0059])"
      ]
     },
     "execution_count": 61,
     "metadata": {},
     "output_type": "execute_result"
    }
   ],
   "source": [
    "kl_divergence_batch(student_enhance_ds.unsqueeze(0), clean_ds.unsqueeze(0))"
   ]
  },
  {
   "cell_type": "code",
   "execution_count": 60,
   "metadata": {},
   "outputs": [
    {
     "data": {
      "text/plain": [
       "tensor([0.0415])"
      ]
     },
     "execution_count": 60,
     "metadata": {},
     "output_type": "execute_result"
    }
   ],
   "source": [
    "kl_divergence_batch(teacher_enhance_ds.unsqueeze(0), noisy_ds.unsqueeze(0))"
   ]
  },
  {
   "cell_type": "code",
   "execution_count": 114,
   "metadata": {},
   "outputs": [],
   "source": [
    "T = 1\n",
    "alpha = 1\n",
    "\n",
    "kd_loss = torch.nn.KLDivLoss(reduction=\"sum\")(torch.nn.functional.log_softmax(teacher_enhance_ds.unsqueeze(0) / T, dim=1),\n",
    "                                torch.nn.functional.softmax(noisy_ds.unsqueeze(0) / T, dim=1)) * (alpha * T * T)"
   ]
  },
  {
   "cell_type": "code",
   "execution_count": 115,
   "metadata": {},
   "outputs": [
    {
     "data": {
      "text/plain": [
       "tensor(0.0033)"
      ]
     },
     "execution_count": 115,
     "metadata": {},
     "output_type": "execute_result"
    }
   ],
   "source": [
    "kd_loss"
   ]
  },
  {
   "cell_type": "code",
   "execution_count": 89,
   "metadata": {},
   "outputs": [
    {
     "data": {
      "text/plain": [
       "tensor([-0.0172, -0.0471, -0.0222,  ..., -0.1175, -0.1331, -0.1407])"
      ]
     },
     "execution_count": 89,
     "metadata": {},
     "output_type": "execute_result"
    }
   ],
   "source": [
    "noisy_ds"
   ]
  },
  {
   "cell_type": "code",
   "execution_count": 90,
   "metadata": {},
   "outputs": [
    {
     "data": {
      "text/plain": [
       "tensor([-0.0038, -0.0062, -0.0051,  ..., -0.0835, -0.0967, -0.1007])"
      ]
     },
     "execution_count": 90,
     "metadata": {},
     "output_type": "execute_result"
    }
   ],
   "source": [
    "clean_ds"
   ]
  },
  {
   "cell_type": "code",
   "execution_count": 91,
   "metadata": {},
   "outputs": [
    {
     "data": {
      "text/plain": [
       "tensor([-0.0017, -0.0023, -0.0020,  ..., -0.0981, -0.1101, -0.1140])"
      ]
     },
     "execution_count": 91,
     "metadata": {},
     "output_type": "execute_result"
    }
   ],
   "source": [
    "student_enhance_ds"
   ]
  },
  {
   "cell_type": "code",
   "execution_count": 1,
   "metadata": {},
   "outputs": [
    {
     "name": "stderr",
     "output_type": "stream",
     "text": [
      "/root/quannt40/anaconda3/envs/cmgan/lib/python3.10/site-packages/torch/nn/init.py:452: UserWarning: Initializing zero-element tensors is a no-op\n",
      "  warnings.warn(\"Initializing zero-element tensors is a no-op\")\n"
     ]
    },
    {
     "data": {
      "text/plain": [
       "ModuleList(\n",
       "  (0): AFD(\n",
       "    (linear_trans_s): LinearTransformStudent(\n",
       "      (relu): ReLU()\n",
       "      (samplers): ModuleList()\n",
       "      (key_layer): ModuleList()\n",
       "      (bilinear): nn_bn_relu(\n",
       "        (linear): Linear(in_features=128, out_features=0, bias=True)\n",
       "        (bn): BatchNorm1d(0, eps=1e-05, momentum=0.1, affine=True, track_running_stats=True)\n",
       "        (relu): ReLU()\n",
       "      )\n",
       "    )\n",
       "    (linear_trans_t): LinearTransformTeacher(\n",
       "      (query_layer): ModuleList()\n",
       "    )\n",
       "  )\n",
       ")"
      ]
     },
     "execution_count": 1,
     "metadata": {},
     "output_type": "execute_result"
    }
   ],
   "source": [
    "from tools import AFD\n",
    "from torch import nn\n",
    "\n",
    "criterion_kd_list = nn.ModuleList([])\n",
    "criterion_kd_list.append(AFD(t_shapes=[], \n",
    "                                    s_shapes=[], \n",
    "                                    qk_dim=128))"
   ]
  },
  {
   "cell_type": "code",
   "execution_count": 68,
   "metadata": {},
   "outputs": [
    {
     "data": {
      "text/plain": [
       "Parameter containing:\n",
       "tensor([ 5.9967e-35,  0.0000e+00, -1.9577e+27,  4.5738e-41,  0.0000e+00,\n",
       "         1.0244e-04,  0.0000e+00,  1.0736e-04,  1.3452e-43,  0.0000e+00],\n",
       "       requires_grad=True)"
      ]
     },
     "execution_count": 68,
     "metadata": {},
     "output_type": "execute_result"
    }
   ],
   "source": [
    "channel_weight = torch.nn.Parameter(torch.Tensor(10))\n",
    "channel_weight"
   ]
  },
  {
   "cell_type": "code",
   "execution_count": 69,
   "metadata": {},
   "outputs": [
    {
     "name": "stderr",
     "output_type": "stream",
     "text": [
      "/tmp/ipykernel_3497884/2116257650.py:1: UserWarning: Implicit dimension choice for softmax has been deprecated. Change the call to include dim=X as an argument.\n",
      "  channel_weight = torch.nn.functional.softmax(channel_weight)\n"
     ]
    },
    {
     "data": {
      "text/plain": [
       "tensor([0.1111, 0.1111, 0.0000, 0.1111, 0.1111, 0.1111, 0.1111, 0.1111, 0.1111,\n",
       "        0.1111], grad_fn=<SoftmaxBackward0>)"
      ]
     },
     "execution_count": 69,
     "metadata": {},
     "output_type": "execute_result"
    }
   ],
   "source": [
    "channel_weight = torch.nn.functional.softmax(channel_weight)\n",
    "channel_weight"
   ]
  },
  {
   "cell_type": "code",
   "execution_count": 3,
   "metadata": {},
   "outputs": [
    {
     "data": {
      "text/plain": [
       "Parameter containing:\n",
       "tensor([-0.0460, -0.7440, -0.3918,  1.6763, -0.4795, -0.4439,  0.1398,  0.4508,\n",
       "         0.3815,  0.0128], requires_grad=True)"
      ]
     },
     "execution_count": 3,
     "metadata": {},
     "output_type": "execute_result"
    }
   ],
   "source": [
    "torch.nn.Parameter(torch.randn(10))"
   ]
  },
  {
   "cell_type": "code",
   "execution_count": 1,
   "metadata": {},
   "outputs": [],
   "source": [
    "import numpy as np\n",
    "from models import generator\n",
    "from natsort import natsorted\n",
    "import os\n",
    "from tools.compute_metrics import compute_metrics\n",
    "from utils import *\n",
    "import torchaudio\n",
    "import soundfile as sf\n",
    "import argparse\n",
    "from evaluation import enhance_one_track\n",
    "\n",
    "def evaluation(model_path, noisy_dir, clean_dir, save_tracks, saved_dir):\n",
    "    pesq_label_writer = open(\"/root/se/VCTK/test/pesq_label.txt\", \"w\")\n",
    "    n_fft = 400\n",
    "    model = generator.TSCNet(num_channel=64, num_features=n_fft // 2 + 1).cuda()\n",
    "    model.load_state_dict((torch.load(model_path)))\n",
    "    model.eval()\n",
    "\n",
    "    if not os.path.exists(saved_dir):\n",
    "        os.mkdir(saved_dir)\n",
    "\n",
    "    audio_list = os.listdir(noisy_dir)\n",
    "    audio_list = natsorted(audio_list)\n",
    "    num = len(audio_list)\n",
    "    metrics_total = np.zeros(6)\n",
    "    for audio in audio_list:\n",
    "        noisy_path = os.path.join(noisy_dir, audio)\n",
    "        clean_path = os.path.join(clean_dir, audio)\n",
    "        est_audio, length, _ = enhance_one_track(\n",
    "            model, noisy_path, saved_dir, 16000 * 16, n_fft, n_fft // 4, save_tracks\n",
    "        )\n",
    "        clean_audio, sr = sf.read(clean_path)\n",
    "        print(\"clean: \", clean_path)\n",
    "        assert sr == 16000\n",
    "        metrics = compute_metrics(clean_audio, est_audio, sr, 0)\n",
    "        metrics = np.array(metrics)\n",
    "        metrics_total += metrics\n",
    "        pesq_label_writer.write(\"{} {}\".format(audio, metrics[0]))\n",
    "\n",
    "    metrics_avg = metrics_total / num\n",
    "    print(\n",
    "        \"pesq: \",\n",
    "        metrics_avg[0],\n",
    "        \"csig: \",\n",
    "        metrics_avg[1],\n",
    "        \"cbak: \",\n",
    "        metrics_avg[2],\n",
    "        \"covl: \",\n",
    "        metrics_avg[3],\n",
    "        \"ssnr: \",\n",
    "        metrics_avg[4],\n",
    "        \"stoi: \",\n",
    "        metrics_avg[5],\n",
    "    )\n",
    "    pesq_label_writer.close()"
   ]
  },
  {
   "cell_type": "code",
   "execution_count": 2,
   "metadata": {},
   "outputs": [
    {
     "name": "stdout",
     "output_type": "stream",
     "text": [
      "exp:  Expected all tensors to be on the same device, but found at least two devices, cuda:0 and cuda:1! (when checking argument for argument weight in method wrapper_CUDA__cudnn_convolution)\n",
      "clean:  /root/se/VCTK/test/clean/p232_001.wav\n"
     ]
    },
    {
     "ename": "TypeError",
     "evalue": "object of type 'NoneType' has no len()",
     "output_type": "error",
     "traceback": [
      "\u001b[0;31m---------------------------------------------------------------------------\u001b[0m",
      "\u001b[0;31mTypeError\u001b[0m                                 Traceback (most recent call last)",
      "Cell \u001b[0;32mIn[2], line 1\u001b[0m\n\u001b[0;32m----> 1\u001b[0m \u001b[43mevaluation\u001b[49m\u001b[43m(\u001b[49m\u001b[38;5;124;43m\"\u001b[39;49m\u001b[38;5;124;43m/root/se/cmgan_denoiser/src/best_ckpt/ckpt\u001b[39;49m\u001b[38;5;124;43m\"\u001b[39;49m\u001b[43m,\u001b[49m\n\u001b[1;32m      2\u001b[0m \u001b[43m            \u001b[49m\u001b[38;5;124;43m\"\u001b[39;49m\u001b[38;5;124;43m/root/se/VCTK/test/noisy\u001b[39;49m\u001b[38;5;124;43m\"\u001b[39;49m\u001b[43m,\u001b[49m\n\u001b[1;32m      3\u001b[0m \u001b[43m            \u001b[49m\u001b[38;5;124;43m\"\u001b[39;49m\u001b[38;5;124;43m/root/se/VCTK/test/clean\u001b[39;49m\u001b[38;5;124;43m\"\u001b[39;49m\u001b[43m,\u001b[49m\n\u001b[1;32m      4\u001b[0m \u001b[43m            \u001b[49m\u001b[38;5;124;43m\"\u001b[39;49m\u001b[38;5;124;43m/root/se/VCTK\u001b[39;49m\u001b[38;5;124;43m\"\u001b[39;49m\u001b[43m,\u001b[49m\n\u001b[1;32m      5\u001b[0m \u001b[43m            \u001b[49m\u001b[38;5;124;43m\"\u001b[39;49m\u001b[38;5;124;43m/root/se/VCTK/audio\u001b[39;49m\u001b[38;5;124;43m\"\u001b[39;49m\u001b[43m)\u001b[49m\n",
      "Cell \u001b[0;32mIn[1], line 35\u001b[0m, in \u001b[0;36mevaluation\u001b[0;34m(model_path, noisy_dir, clean_dir, save_tracks, saved_dir)\u001b[0m\n\u001b[1;32m     33\u001b[0m \u001b[38;5;28mprint\u001b[39m(\u001b[38;5;124m\"\u001b[39m\u001b[38;5;124mclean: \u001b[39m\u001b[38;5;124m\"\u001b[39m, clean_path)\n\u001b[1;32m     34\u001b[0m \u001b[38;5;28;01massert\u001b[39;00m sr \u001b[38;5;241m==\u001b[39m \u001b[38;5;241m16000\u001b[39m\n\u001b[0;32m---> 35\u001b[0m metrics \u001b[38;5;241m=\u001b[39m \u001b[43mcompute_metrics\u001b[49m\u001b[43m(\u001b[49m\u001b[43mclean_audio\u001b[49m\u001b[43m,\u001b[49m\u001b[43m \u001b[49m\u001b[43mest_audio\u001b[49m\u001b[43m,\u001b[49m\u001b[43m \u001b[49m\u001b[43msr\u001b[49m\u001b[43m,\u001b[49m\u001b[43m \u001b[49m\u001b[38;5;241;43m0\u001b[39;49m\u001b[43m)\u001b[49m\n\u001b[1;32m     36\u001b[0m metrics \u001b[38;5;241m=\u001b[39m np\u001b[38;5;241m.\u001b[39marray(metrics)\n\u001b[1;32m     37\u001b[0m metrics_total \u001b[38;5;241m+\u001b[39m\u001b[38;5;241m=\u001b[39m metrics\n",
      "File \u001b[0;32m~/se/cmgan_denoiser/src/tools/compute_metrics.py:40\u001b[0m, in \u001b[0;36mcompute_metrics\u001b[0;34m(cleanFile, enhancedFile, Fs, path)\u001b[0m\n\u001b[1;32m     37\u001b[0m     sampling_rate1 \u001b[38;5;241m=\u001b[39m Fs\n\u001b[1;32m     38\u001b[0m     sampling_rate2 \u001b[38;5;241m=\u001b[39m Fs\n\u001b[0;32m---> 40\u001b[0m \u001b[38;5;28;01mif\u001b[39;00m \u001b[38;5;28mlen\u001b[39m(data1) \u001b[38;5;241m!=\u001b[39m \u001b[38;5;28;43mlen\u001b[39;49m\u001b[43m(\u001b[49m\u001b[43mdata2\u001b[49m\u001b[43m)\u001b[49m:\n\u001b[1;32m     41\u001b[0m     length \u001b[38;5;241m=\u001b[39m \u001b[38;5;28mmin\u001b[39m(\u001b[38;5;28mlen\u001b[39m(data1), \u001b[38;5;28mlen\u001b[39m(data2))\n\u001b[1;32m     42\u001b[0m     data1 \u001b[38;5;241m=\u001b[39m data1[\u001b[38;5;241m0\u001b[39m: length] \u001b[38;5;241m+\u001b[39m np\u001b[38;5;241m.\u001b[39mspacing(\u001b[38;5;241m1\u001b[39m)\n",
      "\u001b[0;31mTypeError\u001b[0m: object of type 'NoneType' has no len()"
     ]
    },
    {
     "ename": "",
     "evalue": "",
     "output_type": "error",
     "traceback": [
      "\u001b[1;31mThe Kernel crashed while executing code in the current cell or a previous cell. \n",
      "\u001b[1;31mPlease review the code in the cell(s) to identify a possible cause of the failure. \n",
      "\u001b[1;31mClick <a href='https://aka.ms/vscodeJupyterKernelCrash'>here</a> for more info. \n",
      "\u001b[1;31mView Jupyter <a href='command:jupyter.viewOutput'>log</a> for further details."
     ]
    }
   ],
   "source": [
    "evaluation(\"/root/se/cmgan_denoiser/src/best_ckpt/ckpt\",\n",
    "            \"/root/se/VCTK/test/noisy\",\n",
    "            \"/root/se/VCTK/test/clean\",\n",
    "            \"/root/se/VCTK\",\n",
    "\n",
    "            \"/root/se/VCTK/audio\")"
   ]
  },
  {
   "cell_type": "markdown",
   "metadata": {},
   "source": [
    "# Measure RTF"
   ]
  },
  {
   "cell_type": "code",
   "execution_count": 13,
   "metadata": {},
   "outputs": [],
   "source": [
    "import time\n",
    "import torch\n",
    "import numpy as np\n",
    "import os\n",
    "import torchaudio\n",
    "\n",
    "# Assuming you have a U-Net model for speech enhancement loaded as 'model'\n",
    "# and your model takes input in the shape of (batch_size, 1, frame_size)\n",
    "\n",
    "def calculate_min_audio_chunk(n_fft, hop_size, downsampling_layers):\n",
    "    \"\"\"\n",
    "    Calculate the minimum audio chunk size needed to pass through the model.\n",
    "    \"\"\"\n",
    "    downsampling_factor = 2 ** downsampling_layers\n",
    "    min_frames = 1 * downsampling_factor\n",
    "    return (min_frames - 1) * hop_size + n_fft\n",
    "\n",
    "def measure_rtf_frame_by_frame(model, audio_path, device='cpu'):\n",
    "    \"\"\"\n",
    "    Measure the Real-Time Factor (RTF) of a speech enhancement model when processing frame by frame.\n",
    "    \n",
    "    Parameters:\n",
    "    - model: The speech enhancement model (e.g., U-Net)\n",
    "    - input_audio: Input audio signal as a NumPy array or PyTorch tensor\n",
    "    - frame_size: Size of each frame in samples\n",
    "    - hop_size: Number of samples between the start of consecutive frames\n",
    "    - device: The device to run the model on ('cpu' or 'cuda')\n",
    "    \n",
    "    Returns:\n",
    "    - rtf: The calculated real-time factor\n",
    "    \"\"\"\n",
    "    # Ensure the model is in evaluation mode\n",
    "    model.eval()\n",
    "    \n",
    "    # Move model to the appropriate device\n",
    "    model.to(device)\n",
    "    n_fft = 400\n",
    "    hop_size = 100\n",
    "    downsampling_layers = 5\n",
    "\n",
    "    chunk_size = calculate_min_audio_chunk(n_fft, hop_size, downsampling_layers)\n",
    "    \n",
    "    name = os.path.split(audio_path)[-1]\n",
    "    noisy, sr = torchaudio.load(audio_path)\n",
    "    assert sr == 16000\n",
    "    print(noisy.shape)\n",
    "\n",
    "    c = torch.sqrt(noisy.size(-1) / torch.sum((noisy ** 2.0), dim=-1))\n",
    "    noisy = torch.transpose(noisy, 0, 1)\n",
    "    noisy = torch.transpose(noisy * c, 0, 1)\n",
    "\n",
    "    length = noisy.size(-1)\n",
    "    padding_len = chunk_size - (length % chunk_size)\n",
    "    noisy = torch.cat([noisy, noisy[:, :padding_len]], dim=-1)\n",
    "\n",
    "    \n",
    "    total_processing_time = 0.0\n",
    "    # Get the total duration of the input audio in seconds\n",
    "    \n",
    "    for i in range(0, length + padding_len, chunk_size):\n",
    "        frame = noisy[:, i:i + chunk_size]\n",
    "        frame = frame.to(device)\n",
    "        noisy_spec = torch.view_as_real(torch.stft(frame, n_fft, hop_size, window=torch.hamming_window(n_fft).to(device),\n",
    "                                                    onesided=True,\n",
    "                                                    return_complex=True))\n",
    "        noisy_spec = power_compress(noisy_spec).permute(0, 1, 3, 2)\n",
    "        # Start the timer\n",
    "        start_time = time.time()\n",
    "        \n",
    "        # Perform the forward pass on the current frame\n",
    "        with torch.no_grad():\n",
    "            a, b, cc, d = model(noisy_spec)\n",
    "        \n",
    "        # Stop the timer\n",
    "        frame_processing_time = time.time() - start_time\n",
    "        total_processing_time += frame_processing_time * 1000\n",
    "    \n",
    "    # Calculate the Real-Time Factor (RTF)\n",
    "    audio_duration = chunk_size / sr  # assuming 16kHz sampling rate\n",
    "    rtf = total_processing_time / audio_duration\n",
    "    \n",
    "    return rtf"
   ]
  },
  {
   "cell_type": "code",
   "execution_count": 2,
   "metadata": {},
   "outputs": [],
   "source": [
    "from models.unet import UNet16, UNet32, UNet64"
   ]
  },
  {
   "cell_type": "code",
   "execution_count": 17,
   "metadata": {},
   "outputs": [],
   "source": [
    "def load_state_dict_from_checkpoint(checkpoint_path):\n",
    "    state_dict = torch.load(checkpoint_path)\n",
    "    from collections import OrderedDict\n",
    "    new_state_dict = OrderedDict()\n",
    "    for k, v in state_dict.items():\n",
    "        name = k[7:]\n",
    "        new_state_dict[name] = v\n",
    "    return new_state_dict\n",
    "\n",
    "def load_teacher_model(checkpoint_path, n_channels):\n",
    "    state_dict = load_state_dict_from_checkpoint(checkpoint_path)\n",
    "    teacher_model = UNet64(n_channels=n_channels, bilinear=True).cuda(\"cuda:1\")\n",
    "    teacher_model.load_state_dict(state_dict)\n",
    "    return teacher_model\n",
    "\n",
    "def power_compress(x):\n",
    "    real = x[..., 0]\n",
    "    imag = x[..., 1]\n",
    "    spec = torch.complex(real, imag)\n",
    "    mag = torch.abs(spec)\n",
    "    phase = torch.angle(spec)\n",
    "    mag = mag**0.3\n",
    "    real_compress = mag * torch.cos(phase)\n",
    "    imag_compress = mag * torch.sin(phase)\n",
    "    return torch.stack([real_compress, imag_compress], 1)"
   ]
  },
  {
   "cell_type": "code",
   "execution_count": 18,
   "metadata": {},
   "outputs": [],
   "source": [
    "\n",
    "# Load or define your model here\n",
    "checkpoint_path = \"/root/khanhnnm/se/checkpoint/CMGAN_unet_64_bilinear_discriminator/checkpoints/best.th\"\n",
    "model = load_teacher_model(checkpoint_path, 3)  # replace with your U-Net model instance\n",
    "\n",
    "# Load or generate input audio here\n",
    "input_path = \"/root/khanhnnm/se/VCTK/test/noisy/p232_001.wav\""
   ]
  },
  {
   "cell_type": "code",
   "execution_count": 19,
   "metadata": {},
   "outputs": [
    {
     "name": "stdout",
     "output_type": "stream",
     "text": [
      "torch.Size([1, 27861])\n",
      "Real-Time Factor (RTF): 414.5486\n"
     ]
    }
   ],
   "source": [
    "# Measure the RTF\n",
    "rtf = measure_rtf_frame_by_frame(model, input_path, device='cuda:0')\n",
    "print(f\"Real-Time Factor (RTF): {rtf:.4f}\")"
   ]
  },
  {
   "cell_type": "code",
   "execution_count": 11,
   "metadata": {},
   "outputs": [
    {
     "data": {
      "text/plain": [
       "(48000,)"
      ]
     },
     "execution_count": 11,
     "metadata": {},
     "output_type": "execute_result"
    }
   ],
   "source": []
  },
  {
   "cell_type": "code",
   "execution_count": null,
   "metadata": {},
   "outputs": [],
   "source": [
    "def calculate_min_audio_chunk(n_fft, hop_size, downsampling_layers):\n",
    "    downsampling_factor = 2 ** downsampling_layers\n",
    "    min_frames = 1 * downsampling_factor\n",
    "    return (min_frames - 1) * hop_size + n_fft\n",
    "\n",
    "def measure_rtf(model, input_chunk, sample_rate):\n",
    "    start_time = time.perf_counter()\n",
    "    with torch.no_grad():\n",
    "        model(input_chunk)\n",
    "    return (time.perf_counter() - start_time) / (input_chunk.shape[-1] / sample_rate)\n",
    "\n",
    "model = UNet32(3)\n",
    "chunk_size = calculate_min_audio_chunk(400, 100, 5)\n",
    "input_chunk = torch.randn(1, 3, chunk_size, 201)\n",
    "rtf = measure_rtf(model, input_chunk, 16000)\n",
    "print(f\"RTF: {rtf:.4f}, Min Chunk Size: {chunk_size} samples\")"
   ]
  }
 ],
 "metadata": {
  "kernelspec": {
   "display_name": "cmgan",
   "language": "python",
   "name": "python3"
  },
  "language_info": {
   "codemirror_mode": {
    "name": "ipython",
    "version": 3
   },
   "file_extension": ".py",
   "mimetype": "text/x-python",
   "name": "python",
   "nbconvert_exporter": "python",
   "pygments_lexer": "ipython3",
   "version": "3.10.14"
  }
 },
 "nbformat": 4,
 "nbformat_minor": 2
}
